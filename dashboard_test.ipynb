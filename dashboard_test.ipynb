{
 "cells": [
  {
   "cell_type": "code",
   "execution_count": 2,
   "metadata": {},
   "outputs": [],
   "source": [
    "import pandas as pd\n",
    "import dash\n",
    "from dash import dcc\n",
    "import dash_bootstrap_components as dbc\n",
    "from dash import html\n",
    "import plotly.express as px\n",
    "from dash.dependencies import Output, Input, State"
   ]
  },
  {
   "cell_type": "code",
   "execution_count": 3,
   "metadata": {},
   "outputs": [
    {
     "data": {
      "text/plain": [
       "array(['Venezuela', 'Uruguay', 'Trinidad y Tabago', 'Suriname',\n",
       "       'Santa Lucía', 'San Vicente y las Granadinas',\n",
       "       'Saint Kitts y Nevis', 'República Dominicana', 'Perú', 'Paraguay',\n",
       "       'Panamá', 'Nicaragua', 'México', 'Jamaica', 'Honduras', 'Haití',\n",
       "       'Guyana', 'Guatemala', 'Granada', 'El Salvador', 'El Caribe',\n",
       "       'Ecuador', 'Dominica', 'Cuba', 'Costa Rica', 'Colombia', 'Chile',\n",
       "       'Brasil', 'Bolivia', 'Belice', 'Barbados', 'Bahamas', 'Argentina',\n",
       "       'Antigua y Barbuda'], dtype=object)"
      ]
     },
     "execution_count": 3,
     "metadata": {},
     "output_type": "execute_result"
    }
   ],
   "source": [
    "region_values = ['América Latina', 'América Latina y el Caribe']\n",
    "PBI_per_cap = pd.read_excel('data/PBI_per_capita.ods')\n",
    "PBI_per_cap = PBI_per_cap[~PBI_per_cap['País__ESTANDAR'].isin(region_values)]\n",
    "PBI_per_cap['País__ESTANDAR'].unique()"
   ]
  },
  {
   "cell_type": "code",
   "execution_count": 10,
   "metadata": {},
   "outputs": [
    {
     "data": {
      "text/plain": [
       "array(['Producto interno bruto (PIB) total anual por habitante a precios constantes en dólares',\n",
       "       'Producto interno bruto (PIB) total anual a precios constantes en dólares'],\n",
       "      dtype=object)"
      ]
     },
     "execution_count": 10,
     "metadata": {},
     "output_type": "execute_result"
    }
   ],
   "source": [
    "data_dir = '/home/cefnam/Documents/proyectos/dashboard/data/' \n",
    "PBI_total = pd.read_excel(data_dir + 'PBI_total.xlsx')\n",
    "PBI_data = pd.concat([PBI_per_cap, PBI_total])\n",
    "PBI_data['indicator'].unique()"
   ]
  },
  {
   "cell_type": "code",
   "execution_count": 3,
   "metadata": {},
   "outputs": [],
   "source": [
    "app = dash.Dash(__name__, external_stylesheets=[dbc.themes.COSMO])\n",
    "\n",
    "app.layout = html.Div([\n",
    "    dcc.Dropdown(id='PBI_per_cap_year_selector',\n",
    "                 value=2015,\n",
    "                 options=[{'label': year, 'value':year}\n",
    "                          for year in PBI_per_cap['País__ESTANDAR'].drop_duplicates().sort_values()]),\n",
    "    dcc.Graph(\n",
    "        id='PBI_per_cap_map'\n",
    "    )\n",
    "])\n",
    "\n",
    "@app.callback(Output('PBI_per_cap', 'children'),\n",
    "              Input('PBI_per_cap_year_selector', 'value'))\n",
    "def PBI_per_cap_year_selector(year):\n",
    "    PBI_per_cap = PBI_per_cap[PBI_per_cap['Años__ESTANDAR'] == year]\n",
    "    fig = px.choropleth(PBI_per_cap, locationmode='country names',\n",
    "                        locations='País__ESTANDAR', color='value',\n",
    "                        color_continuous_scale=\"Viridis\", \n",
    "                        hover_name='País__ESTANDAR', hover_data='value')\n",
    "    return fig"
   ]
  },
  {
   "cell_type": "code",
   "execution_count": 4,
   "metadata": {},
   "outputs": [
    {
     "name": "stdout",
     "output_type": "stream",
     "text": [
      "Dash is running on http://127.0.0.1:8050/\n",
      "\n",
      " * Serving Flask app '__main__'\n",
      " * Debug mode: on\n"
     ]
    },
    {
     "name": "stderr",
     "output_type": "stream",
     "text": [
      "/home/cefnam/.local/lib/python3.10/site-packages/traitlets/traitlets.py:2548: FutureWarning: Supporting extra quotes around strings is deprecated in traitlets 5.0. You can use 'hmac-sha256' instead of '\"hmac-sha256\"' if you require traitlets >=5.\n",
      "  warn(\n",
      "/home/cefnam/.local/lib/python3.10/site-packages/traitlets/traitlets.py:2499: FutureWarning: Supporting extra quotes around Bytes is deprecated in traitlets 5.0. Use 'f6b0f2bd-fff9-4210-80ff-2175033f51a4' instead of 'b\"f6b0f2bd-fff9-4210-80ff-2175033f51a4\"'.\n",
      "  warn(\n",
      "Traceback (most recent call last):\n",
      "  File \"/home/cefnam/.local/lib/python3.10/site-packages/ipykernel_launcher.py\", line 17, in <module>\n",
      "    app.launch_new_instance()\n",
      "  File \"/home/cefnam/.local/lib/python3.10/site-packages/traitlets/config/application.py\", line 1042, in launch_instance\n",
      "    app.initialize(argv)\n",
      "  File \"/home/cefnam/.local/lib/python3.10/site-packages/traitlets/config/application.py\", line 113, in inner\n",
      "    return method(app, *args, **kwargs)\n",
      "  File \"/home/cefnam/.local/lib/python3.10/site-packages/ipykernel/kernelapp.py\", line 678, in initialize\n",
      "    self.init_sockets()\n",
      "  File \"/home/cefnam/.local/lib/python3.10/site-packages/ipykernel/kernelapp.py\", line 317, in init_sockets\n",
      "    self.shell_port = self._bind_socket(self.shell_socket, self.shell_port)\n",
      "  File \"/home/cefnam/.local/lib/python3.10/site-packages/ipykernel/kernelapp.py\", line 252, in _bind_socket\n",
      "    return self._try_bind_socket(s, port)\n",
      "  File \"/home/cefnam/.local/lib/python3.10/site-packages/ipykernel/kernelapp.py\", line 228, in _try_bind_socket\n",
      "    s.bind(\"tcp://%s:%i\" % (self.ip, port))\n",
      "  File \"/home/cefnam/.local/lib/python3.10/site-packages/zmq/sugar/socket.py\", line 301, in bind\n",
      "    super().bind(addr)\n",
      "  File \"zmq/backend/cython/socket.pyx\", line 564, in zmq.backend.cython.socket.Socket.bind\n",
      "  File \"zmq/backend/cython/checkrc.pxd\", line 28, in zmq.backend.cython.checkrc._check_rc\n",
      "zmq.error.ZMQError: Address already in use\n"
     ]
    },
    {
     "ename": "SystemExit",
     "evalue": "1",
     "output_type": "error",
     "traceback": [
      "An exception has occurred, use %tb to see the full traceback.\n",
      "\u001b[0;31mSystemExit\u001b[0m\u001b[0;31m:\u001b[0m 1\n"
     ]
    },
    {
     "name": "stderr",
     "output_type": "stream",
     "text": [
      "/home/cefnam/.local/lib/python3.10/site-packages/IPython/core/interactiveshell.py:3513: UserWarning: To exit: use 'exit', 'quit', or Ctrl-D.\n",
      "  warn(\"To exit: use 'exit', 'quit', or Ctrl-D.\", stacklevel=1)\n"
     ]
    }
   ],
   "source": [
    "if __name__ == '__main__':\n",
    "    app.run_server(debug=True)"
   ]
  }
 ],
 "metadata": {
  "kernelspec": {
   "display_name": "Python 3",
   "language": "python",
   "name": "python3"
  },
  "language_info": {
   "codemirror_mode": {
    "name": "ipython",
    "version": 3
   },
   "file_extension": ".py",
   "mimetype": "text/x-python",
   "name": "python",
   "nbconvert_exporter": "python",
   "pygments_lexer": "ipython3",
   "version": "3.10.6"
  },
  "orig_nbformat": 4
 },
 "nbformat": 4,
 "nbformat_minor": 2
}
